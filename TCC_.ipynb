{
  "nbformat": 4,
  "nbformat_minor": 0,
  "metadata": {
    "colab": {
      "name": "TCC.",
      "provenance": [],
      "include_colab_link": true
    },
    "kernelspec": {
      "display_name": "Python 3",
      "name": "python3"
    },
    "language_info": {
      "name": "python"
    }
  },
  "cells": [
    {
      "cell_type": "markdown",
      "metadata": {
        "id": "view-in-github",
        "colab_type": "text"
      },
      "source": [
        "<a href=\"https://colab.research.google.com/github/matheuslfer/TCC/blob/main/TCC_.ipynb\" target=\"_parent\"><img src=\"https://colab.research.google.com/assets/colab-badge.svg\" alt=\"Open In Colab\"/></a>"
      ]
    },
    {
      "cell_type": "markdown",
      "metadata": {
        "id": "Vvhme3iz5L93"
      },
      "source": [
        "#TCC"
      ]
    },
    {
      "cell_type": "code",
      "metadata": {
        "id": "h8hLwm_85elT"
      },
      "source": [
        "## PASSOS INICIAIS:\n",
        "# Como usar o Google COLAB para ANALISAR DADOS? | Handshake #08: https://www.youtube.com/watch?v=_mIwsA2ddSc;\n",
        "# MELHOR FORMA DE APRENDER PYTHON (Google Colab Notebook): https://www.youtube.com/watch?v=Gojqw9BQ5qY\n",
        "\n",
        "##IMPORTANDO DADOS DO DRIVE.\n",
        "# import pandas as ps\n",
        "# pd.read_csv('local do arquivo')"
      ],
      "execution_count": 6,
      "outputs": []
    },
    {
      "cell_type": "code",
      "metadata": {
        "colab": {
          "base_uri": "https://localhost:8080/"
        },
        "id": "SskRZH3hkQRK",
        "outputId": "7930c8ef-96a0-4caf-8d6c-b9d20b970f49"
      },
      "source": [
        "from google.colab import drive\n",
        "drive.mount('/content/drive')"
      ],
      "execution_count": 9,
      "outputs": [
        {
          "output_type": "stream",
          "text": [
            "Drive already mounted at /content/drive; to attempt to forcibly remount, call drive.mount(\"/content/drive\", force_remount=True).\n"
          ],
          "name": "stdout"
        }
      ]
    },
    {
      "cell_type": "markdown",
      "metadata": {
        "id": "qlILBTtHkLx7"
      },
      "source": [
        "**Pesquisar**: como instalar os pacotes do Matplotlib.pyplot, Glob e Os."
      ]
    },
    {
      "cell_type": "code",
      "metadata": {
        "id": "La_RjkFZZ98v"
      },
      "source": [
        "# Importando pacotes Necessarios \n",
        "import pandas as pd\n",
        "import numpy as np\n",
        "import matplotlib.pyplot as plt\n",
        "import netCDF4 as nc\n",
        "import os\n",
        "import glob\n",
        "import github2pypi as git"
      ],
      "execution_count": 10,
      "outputs": []
    },
    {
      "cell_type": "code",
      "metadata": {
        "id": "sgbvv_xJaBwK"
      },
      "source": [
        "# Importando dados.\n",
        "\n",
        "arquivos= r'/content/drive/MyDrive/UFPA/TCC Matheus /Dados Clorofila 1997-2020/CHLOR2007_9.nc'\n",
        "dados=(arquivos)"
      ],
      "execution_count": 11,
      "outputs": []
    },
    {
      "cell_type": "code",
      "metadata": {
        "id": "dnooR3Kvj1FB",
        "colab": {
          "base_uri": "https://localhost:8080/"
        },
        "outputId": "46f77ab3-2e34-4ebc-d730-e2042ba21130"
      },
      "source": [
        "#Lendo o arquivo NETCDF e olhando o que ele tem\n",
        "ds = nc.Dataset(dados)\n",
        "ds"
      ],
      "execution_count": 12,
      "outputs": [
        {
          "output_type": "execute_result",
          "data": {
            "text/plain": [
              "<class 'netCDF4._netCDF4.Dataset'>\n",
              "root group (NETCDF4 data model, file format HDF5):\n",
              "    product_name: A20072442007273.L3m_MO_CHL_chl_ocx_9km.nc\n",
              "    instrument: MODIS\n",
              "    title: HMODISA Level-3 Standard Mapped Image\n",
              "    project: Ocean Biology Processing Group (NASA/GSFC/OBPG)\n",
              "    platform: Aqua\n",
              "    temporal_range: month\n",
              "    processing_version: 2018.0\n",
              "    date_created: 2018-01-03T23:05:05.000Z\n",
              "    history: l3mapgen par=A20072442007273.L3m_MO_CHL_chl_ocx_9km.nc.param \n",
              "    l2_flag_names: ATMFAIL,LAND,HILT,HISATZEN,STRAYLIGHT,CLDICE,COCCOLITH,LOWLW,CHLWARN,CHLFAIL,NAVWARN,MAXAERITER,ATMWARN,HISOLZEN,NAVFAIL,FILTER,HIGLINT\n",
              "    time_coverage_start: 2007-09-01T00:35:01.000Z\n",
              "    time_coverage_end: 2007-10-01T02:49:59.000Z\n",
              "    start_orbit_number: 28336\n",
              "    end_orbit_number: 28774\n",
              "    map_projection: Equidistant Cylindrical\n",
              "    latitude_units: degrees_north\n",
              "    longitude_units: degrees_east\n",
              "    northernmost_latitude: 90.0\n",
              "    southernmost_latitude: -90.0\n",
              "    westernmost_longitude: -180.0\n",
              "    easternmost_longitude: 180.0\n",
              "    geospatial_lat_max: 90.0\n",
              "    geospatial_lat_min: -90.0\n",
              "    geospatial_lon_max: 180.0\n",
              "    geospatial_lon_min: -180.0\n",
              "    grid_mapping_name: latitude_longitude\n",
              "    latitude_step: 0.083333336\n",
              "    longitude_step: 0.083333336\n",
              "    sw_point_latitude: -89.958336\n",
              "    sw_point_longitude: -179.95833\n",
              "    geospatial_lon_resolution: 9.276625\n",
              "    geospatial_lat_resolution: 9.276625\n",
              "    geospatial_lat_units: degrees_north\n",
              "    geospatial_lon_units: degrees_east\n",
              "    spatialResolution: 9.28 km\n",
              "    number_of_lines: 2160\n",
              "    number_of_columns: 4320\n",
              "    measure: Mean\n",
              "    suggested_image_scaling_minimum: 0.01\n",
              "    suggested_image_scaling_maximum: 20.0\n",
              "    suggested_image_scaling_type: LOG\n",
              "    suggested_image_scaling_applied: No\n",
              "    _lastModified: 2018-01-03T23:05:05.000Z\n",
              "    Conventions: CF-1.6 ACDD-1.3\n",
              "    institution: NASA Goddard Space Flight Center, Ocean Ecology Laboratory, Ocean Biology Processing Group\n",
              "    standard_name_vocabulary: CF Standard Name Table v36\n",
              "    naming_authority: gov.nasa.gsfc.sci.oceandata\n",
              "    id: A20072442007273.L3b_MO_CHL.nc/L3/A20072442007273.L3b_MO_CHL.nc\n",
              "    license: http://science.nasa.gov/earth-science/earth-science-data/data-information-policy/\n",
              "    creator_name: NASA/GSFC/OBPG\n",
              "    publisher_name: NASA/GSFC/OBPG\n",
              "    creator_email: data@oceancolor.gsfc.nasa.gov\n",
              "    publisher_email: data@oceancolor.gsfc.nasa.gov\n",
              "    creator_url: http://oceandata.sci.gsfc.nasa.gov\n",
              "    publisher_url: http://oceandata.sci.gsfc.nasa.gov\n",
              "    processing_level: L3 Mapped\n",
              "    cdm_data_type: grid\n",
              "    identifier_product_doi_authority: http://dx.doi.org\n",
              "    identifier_product_doi: 10.5067/AQUA/MODIS/L3M/CHL/2018\n",
              "    keywords: Earth Science > Oceans > Ocean Chemistry > Pigments > Chlorophyll; Earth Science > Oceans > Ocean Chemistry > Chlorophyllr\n",
              "    keywords_vocabulary: NASA Global Change Master Directory (GCMD) Science Keywords\n",
              "    data_bins: 4443600\n",
              "    data_minimum: 0.0018101793\n",
              "    data_maximum: 99.92944\n",
              "    dimensions(sizes): lat(2160), lon(4320), rgb(3), eightbitcolor(256)\n",
              "    variables(dimensions): float32 chl_ocx(lat, lon), float32 lat(lat), float32 lon(lon), uint8 palette(rgb, eightbitcolor)\n",
              "    groups: processing_control"
            ]
          },
          "metadata": {
            "tags": []
          },
          "execution_count": 12
        }
      ]
    },
    {
      "cell_type": "code",
      "metadata": {
        "id": "JkM-kjfXkGRc"
      },
      "source": [
        "#Lendo as variaveis latitude,longitude e time do arquivo NetCDF\n",
        "latitude = ds['lat'][:]\n",
        "longitude = ds['lon'][:]\n"
      ],
      "execution_count": 13,
      "outputs": []
    },
    {
      "cell_type": "code",
      "metadata": {
        "id": "tRViTQhmk02z"
      },
      "source": [
        "#Recortando um pedaço dos dados de clorofila\n",
        "#Exemplo para a Foz do Amazonas\n",
        "\n",
        "#Intervalos de Lat e Lon dos dados\n",
        "latbounds = [-10,15]\n",
        "lonbounds = [-40,-30] \n"
      ],
      "execution_count": 14,
      "outputs": []
    },
    {
      "cell_type": "code",
      "metadata": {
        "id": "m-WPq7X_kCBa",
        "colab": {
          "base_uri": "https://localhost:8080/"
        },
        "outputId": "c40650f1-e871-489b-d31b-13fb045ed645"
      },
      "source": [
        "# Achando os indices de lat e  lon\n",
        "latli = np.argmin( np.abs( latitude - latbounds[0] ) ) \n",
        "latui = np.argmin( np.abs( latitude - latbounds[1] ) ) \n",
        "\n",
        "lonli = np.argmin( np.abs( longitude - lonbounds[0] ) )\n",
        "lonui = np.argmin( np.abs( longitude - lonbounds[1] ) )  \n",
        "\n",
        "lonui"
      ],
      "execution_count": 15,
      "outputs": [
        {
          "output_type": "execute_result",
          "data": {
            "text/plain": [
              "1799"
            ]
          },
          "metadata": {
            "tags": []
          },
          "execution_count": 15
        }
      ]
    },
    {
      "cell_type": "code",
      "metadata": {
        "id": "-MVP0lmK1dHc"
      },
      "source": [
        "#Pegando a Clorofila recortada\n",
        "chloro_subset = ds.variables['chl_ocx'][latui:latli,lonli:lonui]\n",
        " #Dado recortado pra regiao [possui mascara e valores]"
      ],
      "execution_count": 16,
      "outputs": []
    },
    {
      "cell_type": "code",
      "metadata": {
        "id": "ltr5383Q2F2a"
      },
      "source": [
        "mascara = chloro_subset.mask #Mascara com true e false\n",
        "chloro = chloro_subset.data #Dados \"reais\"\n",
        "fill = chloro_subset.fill_value #Dados que nao sao validos\n",
        "\n",
        "#Retomando indices onde os dados nao sao validos\n",
        "ind = np.where(chloro==fill)\n",
        "chloro[ind] = np.nan #Convertendo os dados para NaN\n"
      ],
      "execution_count": 17,
      "outputs": []
    },
    {
      "cell_type": "code",
      "metadata": {
        "id": "WS9R1gtg4s5k"
      },
      "source": [
        "#Pegando a lat e lon apenas para a area recortada\n",
        "latr = latitude[latui:latli]\n",
        "lonr = longitude[lonli:lonui]"
      ],
      "execution_count": 18,
      "outputs": []
    },
    {
      "cell_type": "code",
      "metadata": {
        "id": "30rz3xFqeHcs",
        "colab": {
          "base_uri": "https://localhost:8080/",
          "height": 530
        },
        "outputId": "0b3970c3-fcf5-4b41-90b4-03833317658b"
      },
      "source": [
        "#Criando uma figura para plotar os dados\n",
        "fig,(ax1) = plt.subplots(1, 1,figsize=(10, 8))\n",
        "\n",
        "lat2,lon2=np.meshgrid(lonr,latr)\n",
        "c = ax1.contourf(lonr,latr,chloro_subset,levels=np.linspace(0,5,100))\n",
        "ax1.set_xlabel('Longitude')\n",
        "ax1.set_ylabel('Latitude')\n",
        "ax1.set_title('Mapa Médio')\n",
        "ax1.scatter(-35,10,marker='o')"
      ],
      "execution_count": 19,
      "outputs": [
        {
          "output_type": "execute_result",
          "data": {
            "text/plain": [
              "<matplotlib.collections.PathCollection at 0x7fc96a225550>"
            ]
          },
          "metadata": {
            "tags": []
          },
          "execution_count": 19
        },
        {
          "output_type": "display_data",
          "data": {
            "image/png": "[encoded data removed]",
            "text/plain": [
              "<Figure size 720x576 with 1 Axes>"
            ]
          },
          "metadata": {
            "tags": [],
            "needs_background": "light"
          }
        }
      ]
    },
    {
      "cell_type": "code",
      "metadata": {
        "id": "cFEsIANrhMFc"
      },
      "source": [
        ""
      ],
      "execution_count": null,
      "outputs": []
    },
    {
      "cell_type": "markdown",
      "metadata": {
        "id": "o-NFx2gthsU7"
      },
      "source": [
        "# TESTE MAPA"
      ]
    },
    {
      "cell_type": "code",
      "metadata": {
        "id": "gVja_diqiAYy",
        "colab": {
          "base_uri": "https://localhost:8080/"
        },
        "outputId": "b2b77fa4-86d4-4cbc-c173-0b03decb0926"
      },
      "source": [
        "!pip install cartopy"
      ],
      "execution_count": 2,
      "outputs": [
        {
          "output_type": "stream",
          "text": [
            "Requirement already satisfied: cartopy in /usr/local/lib/python3.7/dist-packages (0.19.0.post1)\n",
            "Requirement already satisfied: numpy>=1.13.3 in /usr/local/lib/python3.7/dist-packages (from cartopy) (1.19.5)\n",
            "Requirement already satisfied: pyshp>=2 in /usr/local/lib/python3.7/dist-packages (from cartopy) (2.1.3)\n",
            "Requirement already satisfied: shapely>=1.5.6 in /usr/local/lib/python3.7/dist-packages (from cartopy) (1.7.1)\n"
          ],
          "name": "stdout"
        }
      ]
    },
    {
      "cell_type": "code",
      "metadata": {
        "id": "vzs1cPn8hxij"
      },
      "source": [
        "import cartopy.crs as ccrs\n",
        "import cartopy.feature as cfeature\n",
        "from cartopy.mpl.gridliner import LONGITUDE_FORMATTER, LATITUDE_FORMATTER\n",
        "\n",
        "import matplotlib.pyplot as plt"
      ],
      "execution_count": 1,
      "outputs": []
    },
    {
      "cell_type": "code",
      "metadata": {
        "id": "kPmBr8c2h_a8",
        "colab": {
          "base_uri": "https://localhost:8080/"
        },
        "outputId": "2c449c2c-347b-4aba-bb4c-b3175a1b486a"
      },
      "source": [
        "ax = plt.axes(projection=ccrs.PlateCarree(),extent=[-40, -30, -15, -10])\n",
        "c = ax.contourf(lonr,latr,chloro_subset,levels=np.linspace(0,5,100))"
      ],
      "execution_count": null,
      "outputs": [
        {
          "output_type": "stream",
          "text": [
            "Geometry must be a Point or LineString\n"
          ],
          "name": "stderr"
        }
      ]
    },
    {
      "cell_type": "code",
      "metadata": {
        "id": "I3i5h9l6lSd4"
      },
      "source": [
        ""
      ],
      "execution_count": null,
      "outputs": []
    }
  ]
}